{
 "cells": [
  {
   "cell_type": "markdown",
   "metadata": {},
   "source": [
    "# Demo: Kalman Filter"
   ]
  },
  {
   "cell_type": "markdown",
   "metadata": {},
   "source": [
    "##  Kalman Filter\n",
    "\n",
    "In dieser Demo wollen wir den Kalman Filter etwas näher betrachten.\n",
    "\n",
    "Diesmal brauchen wir keine OpenCV, sondern die numpy Bibliothek für Matrix Operationen und wir setzen auch geraden einige Parameter für die Simulation."
   ]
  },
  {
   "cell_type": "code",
   "execution_count": 1,
   "metadata": {},
   "outputs": [],
   "source": [
    "import numpy as np\n",
    "# for displaying images in jupyter\n",
    "import matplotlib as mpl\n",
    "from matplotlib import pyplot as plt\n",
    "%matplotlib inline\n",
    "mpl.rcParams['figure.dpi']= 200\n",
    "\n",
    "# Zeitschritt für die Simulation\n",
    "deltaT = 0.05\n",
    "\n",
    "# Rauschmodell für den Kalmanfilter\n",
    "sigmaSystemPos = 0.1\n",
    "sigmaSystemVel = 0.1\n",
    "sigmaMeasureX = 0.1\n",
    "sigmaMeasureY = 0.1\n",
    "\n",
    "# Tatsächlich verwendetes Rauschen für die Messung\n",
    "sigmaMeasureXExperiment = 0.1\n",
    "sigmaMeasureYExperiment = 0.1\n"
   ]
  },
  {
   "cell_type": "markdown",
   "metadata": {},
   "source": [
    "### Zustand und Modelle\n",
    "\n",
    "Wie können wir Superman helfen die Missile abzuwehren.\n",
    "\n",
    "Wir möchten die Missile tracken. Diese wird mit einer Initialgeschwindigkeit von (10, 10) m/s vom Punkt (0, 0) abgeschossen und bewegt sich danach anhand der Schwerkraft (Beschleunigung = (0, -9.81) m^2/s).\n",
    "\n",
    "Wie sieht der Zustandsvektor aus?"
   ]
  },
  {
   "cell_type": "code",
   "execution_count": 2,
   "metadata": {},
   "outputs": [
    {
     "name": "stdout",
     "output_type": "stream",
     "text": [
      "[ 0.    0.   10.   10.    0.   -9.81]\n"
     ]
    }
   ],
   "source": [
    "# Initialwerte\n",
    "g = [0., -9.81]\n",
    "posStart = [0., 0.]\n",
    "velStart = [10., 10.]\n",
    "\n",
    "# Zustand\n",
    "x0 = np.asarray(posStart + velStart + g)\n",
    "print(x0)"
   ]
  },
  {
   "cell_type": "markdown",
   "metadata": {},
   "source": [
    "Wir haben hier die Gravitation dem Zustandsvektor beigefügt, auch wenn sie sich nicht ändert. Dies erlaubt es einfacher das System Modell als Matrix darzustellen. Dieses soll nun aus dem Zustandsvektor zu einem Zeitpunkt t den Zustandsvektor zum Zeitpunkt t+deltaT berechnen.\n",
    "\n",
    "Dabei verändert sich die Position anhand der Geschwindigkeit und die Geschwindigkeit anhand der Beschleunigung. Die Beschleunigung selber bleibt gleich."
   ]
  },
  {
   "cell_type": "code",
   "execution_count": 3,
   "metadata": {},
   "outputs": [
    {
     "name": "stdout",
     "output_type": "stream",
     "text": [
      "[[1.   0.   0.05 0.   0.   0.  ]\n",
      " [0.   1.   0.   0.05 0.   0.  ]\n",
      " [0.   0.   1.   0.   0.05 0.  ]\n",
      " [0.   0.   0.   1.   0.   0.05]\n",
      " [0.   0.   0.   0.   1.   0.  ]\n",
      " [0.   0.   0.   0.   0.   1.  ]]\n"
     ]
    }
   ],
   "source": [
    "A = np.diag([1., 1., 1., 1., 1., 1.])\n",
    "A[0,2] = deltaT;\n",
    "A[1,3] = deltaT;\n",
    "A[2,4] = deltaT;\n",
    "A[3,5] = deltaT;\n",
    "\n",
    "print(A)"
   ]
  },
  {
   "cell_type": "markdown",
   "metadata": {},
   "source": [
    "Wenn wir nun das Modell A auf x anwenden erhalten wir den nächsten Zustand:"
   ]
  },
  {
   "cell_type": "code",
   "execution_count": 4,
   "metadata": {},
   "outputs": [
    {
     "name": "stdout",
     "output_type": "stream",
     "text": [
      "[ 0.    0.   10.   10.    0.   -9.81]\n",
      "[ 0.5     0.5    10.      9.5095  0.     -9.81  ]\n"
     ]
    }
   ],
   "source": [
    "x = np.matmul(A, x0)\n",
    "print(x0)\n",
    "print(x)"
   ]
  },
  {
   "cell_type": "markdown",
   "metadata": {},
   "source": [
    "Wenn wir das für mehrere Schritte anwenden erhalten wir den durch das Systemmodell vorhergesagten Zustand der Missile."
   ]
  },
  {
   "cell_type": "code",
   "execution_count": 5,
   "metadata": {},
   "outputs": [],
   "source": [
    "steps = 50\n",
    "\n",
    "# Die Werte für jeden Schritt werden in einem Array gespeichert\n",
    "x = np.zeros(shape=(steps, x0.shape[0]))\n",
    "x[0,:] = x0\n",
    "for i in range(1,steps):\n",
    "    x[i,:] = np.matmul(A, x[i-1,:])\n",
    "    \n",
    "    "
   ]
  },
  {
   "cell_type": "markdown",
   "metadata": {},
   "source": [
    "Wir können die Position nun als Plot darstellen:"
   ]
  },
  {
   "cell_type": "code",
   "execution_count": 6,
   "metadata": {},
   "outputs": [
    {
     "data": {
      "text/plain": [
       "<matplotlib.legend.Legend at 0x7ff3a5e51a58>"
      ]
     },
     "execution_count": 6,
     "metadata": {},
     "output_type": "execute_result"
    },
    {
     "data": {
      "image/png": "[encoded data removed]",
      "text/plain": [
       "<Figure size 864x576 with 1 Axes>"
      ]
     },
     "metadata": {},
     "output_type": "display_data"
    }
   ],
   "source": [
    "fig, ax = plt.subplots(figsize=(12,8))\n",
    "ax.plot(x[:,0], x[:,1], label='Position')\n",
    "ax.legend()"
   ]
  },
  {
   "cell_type": "markdown",
   "metadata": {},
   "source": [
    "Für später brauchen wir auch noch das 'Noise' Modell des Systems. Dies beschreibt inwiefern wir dem System Modell vertrauen, zum Beispiel könnten wir den Luftwiderstand als Rauschen betrachten."
   ]
  },
  {
   "cell_type": "code",
   "execution_count": 7,
   "metadata": {},
   "outputs": [
    {
     "name": "stdout",
     "output_type": "stream",
     "text": [
      "[[0.1 0.  0.  0.  0.  0. ]\n",
      " [0.  0.1 0.  0.  0.  0. ]\n",
      " [0.  0.  0.1 0.  0.  0. ]\n",
      " [0.  0.  0.  0.1 0.  0. ]\n",
      " [0.  0.  0.  0.  0.  0. ]\n",
      " [0.  0.  0.  0.  0.  0. ]]\n"
     ]
    }
   ],
   "source": [
    "# System noise model\n",
    "Q = np.zeros(shape=(6,6));\n",
    "Q[0,0] = sigmaSystemPos;\n",
    "Q[1,1] = sigmaSystemPos;\n",
    "Q[2,2] = sigmaSystemVel;\n",
    "Q[3,3] = sigmaSystemVel;\n",
    "print(Q)"
   ]
  },
  {
   "cell_type": "markdown",
   "metadata": {},
   "source": [
    "Superman hat leider keinen Geschwindigkeitmesser und kann daher nur die Position der Missile messen. \n",
    "\n",
    "Um dies mathematisch darzustellen, brauchen wir eine Matrix C die aus dem Zustand die Messung, das heisst die x und y Position berechnet.\n",
    "\n",
    "Wie sieht das Messmodell aus (Matrix C) aus?"
   ]
  },
  {
   "cell_type": "code",
   "execution_count": 8,
   "metadata": {},
   "outputs": [
    {
     "name": "stdout",
     "output_type": "stream",
     "text": [
      "[[1. 0. 0. 0. 0. 0.]\n",
      " [0. 1. 0. 0. 0. 0.]]\n"
     ]
    }
   ],
   "source": [
    "# Messmodell\n",
    "C = np.zeros(shape=(2,6));\n",
    "C[0,0] = 1;\n",
    "C[1,1] = 1;\n",
    "print(C)"
   ]
  },
  {
   "cell_type": "markdown",
   "metadata": {},
   "source": [
    "Leider ist Supermann etwas weit entfernt und macht daher Fehler. Wir simulieren den Fehler in dem wir den Messergebnissen (Position) einen Gauss verteilten Zufallsvektor hinzufügen."
   ]
  },
  {
   "cell_type": "code",
   "execution_count": 9,
   "metadata": {},
   "outputs": [],
   "source": [
    "z = np.zeros(shape=(steps, 2))\n",
    "for i in range(0,steps):\n",
    "    z[i,0] = np.random.normal(loc=x[i,0], scale=sigmaMeasureXExperiment)\n",
    "    z[i,1] = np.random.normal(loc=x[i,1], scale=sigmaMeasureYExperiment)"
   ]
  },
  {
   "cell_type": "markdown",
   "metadata": {},
   "source": [
    "Nun können wir die Messungen darstellen:"
   ]
  },
  {
   "cell_type": "code",
   "execution_count": 10,
   "metadata": {},
   "outputs": [
    {
     "data": {
      "text/plain": [
       "<matplotlib.legend.Legend at 0x7ff3a5c11550>"
      ]
     },
     "execution_count": 10,
     "metadata": {},
     "output_type": "execute_result"
    },
    {
     "data": {
      "image/png": "[encoded data removed]",
      "text/plain": [
       "<Figure size 864x576 with 1 Axes>"
      ]
     },
     "metadata": {},
     "output_type": "display_data"
    }
   ],
   "source": [
    "fig, ax = plt.subplots(figsize=(12,8))\n",
    "ax.plot(x[:,0], x[:,1], label='Position')\n",
    "ax.plot(z[:,0], z[:,1], marker='x', linestyle=\"None\", label='Measurement')\n",
    "ax.legend()"
   ]
  },
  {
   "cell_type": "markdown",
   "metadata": {},
   "source": [
    "Für den Kalman Filter müssen wir nun auch noch den Messfehler als Matrix angeben."
   ]
  },
  {
   "cell_type": "code",
   "execution_count": 11,
   "metadata": {},
   "outputs": [
    {
     "name": "stdout",
     "output_type": "stream",
     "text": [
      "[[0.1 0. ]\n",
      " [0.  0.1]]\n"
     ]
    }
   ],
   "source": [
    "# Messmodell Noise\n",
    "R = np.zeros(shape=(2,2));\n",
    "R[0,0] = sigmaMeasureX;\n",
    "R[1,1] = sigmaMeasureY;\n",
    "print(R)"
   ]
  },
  {
   "cell_type": "markdown",
   "metadata": {},
   "source": [
    "### Implementation Kalman Filter\n",
    "\n",
    "Den Kalman Filter selber möchten wir als Funktion definieren, die jeweils den nächsten Zustand (und die dazugehörige Kovarianzmatrix) aus dem aktuellen Zustand und der Messung berechnetn.\n"
   ]
  },
  {
   "cell_type": "code",
   "execution_count": 12,
   "metadata": {},
   "outputs": [],
   "source": [
    "def kalman_step(A, C, Q, R, z, x, V, initial):\n",
    "    \"\"\"\n",
    "    Args:\n",
    "    A: the system matrix\n",
    "    C: the observation matrix \n",
    "    Q: the system covariance \n",
    "    R: the observation covariance\n",
    "    z: the observation at time t\n",
    "    x: prior mean\n",
    "    V: - prior covariance\n",
    "    initial: true if this is an initial step (means x and V are taken as initial conditions (so A and Q are ignored)\n",
    "    \n",
    "    Returns:\n",
    "      x_new: posterior mean\n",
    "      V_new: posterior covariance\n",
    "\n",
    "    \"\"\"\n",
    "    if initial:\n",
    "        x_pred = x\n",
    "        V_pred = V\n",
    "    else:\n",
    "        x_pred = np.matmul(A, x)\n",
    "        V_pred = np.matmul(A, np.matmul(V, np.transpose(A))) + Q\n",
    "        \n",
    "    e = z - np.matmul(C, x_pred);\n",
    "    C_trans = np.transpose(C)\n",
    "    S = np.matmul(V_pred,C_trans)\n",
    "    S = np.matmul(C, S) + R\n",
    "    S_inverse = np.linalg.inv(S)\n",
    "\n",
    "    # Kalman gain matrix\n",
    "    K = np.matmul(np.matmul(V_pred, C_trans), S_inverse)\n",
    "    \n",
    "    x_res = x_pred + np.matmul(K, e)\n",
    "    V_res = np.identity(V.shape[0]) - np.matmul(K, C)\n",
    "    V_res = np.matmul(V_res, V_pred)\n",
    "    \n",
    "    return x_res, V_res\n",
    "    \n"
   ]
  },
  {
   "cell_type": "markdown",
   "metadata": {},
   "source": [
    "Nun können wir den Filter für jeden Zeitschritt anwenden und erhalten die gefilterten Resulte."
   ]
  },
  {
   "cell_type": "code",
   "execution_count": 13,
   "metadata": {},
   "outputs": [],
   "source": [
    "x_res = np.zeros(shape=(steps, 6))\n",
    "V = np.zeros(shape=(6,6))\n",
    "x_res[0,:], V = kalman_step(A, C, Q, R, z[0,:], x[0,:],V, initial=True)\n",
    "for i in range(1,steps):\n",
    "    x_res[i,:], V = kalman_step(A, C, Q, R, z[i,:], x_res[i-1,:],V, initial=False)"
   ]
  },
  {
   "cell_type": "markdown",
   "metadata": {},
   "source": [
    "Plot des Resultats:"
   ]
  },
  {
   "cell_type": "code",
   "execution_count": 14,
   "metadata": {},
   "outputs": [
    {
     "data": {
      "text/plain": [
       "<matplotlib.legend.Legend at 0x7ff3a5e02470>"
      ]
     },
     "execution_count": 14,
     "metadata": {},
     "output_type": "execute_result"
    },
    {
     "data": {
      "image/png": "[encoded data removed]",
      "text/plain": [
       "<Figure size 864x576 with 1 Axes>"
      ]
     },
     "metadata": {},
     "output_type": "display_data"
    }
   ],
   "source": [
    "fig, ax = plt.subplots(figsize=(12,8))\n",
    "ax.plot(x[:,0], x[:,1], label='Position')\n",
    "ax.plot(z[:,0], z[:,1], marker='x', label='Measurement')\n",
    "ax.plot(x_res[:,0], x_res[:,1], marker='o', label='Prediction')\n",
    "ax.legend()"
   ]
  },
  {
   "cell_type": "markdown",
   "metadata": {},
   "source": [
    "Im Resultat scheint die Messung etwas stark das Resultat zu beieinflussen. Wie könnte man das ändern?\n",
    "\n",
    "Wenn wir noch den Luftwiderstand bei der Berechnung der richtigen Position (aber nicht bei den Modellen) berücksichtigen möchten, wie sieht es dann aus?"
   ]
  },
  {
   "cell_type": "code",
   "execution_count": null,
   "metadata": {},
   "outputs": [],
   "source": []
  }
 ],
 "metadata": {
  "kernelspec": {
   "display_name": "Python 3",
   "language": "python",
   "name": "python3"
  },
  "language_info": {
   "codemirror_mode": {
    "name": "ipython",
    "version": 3
   },
   "file_extension": ".py",
   "mimetype": "text/x-python",
   "name": "python",
   "nbconvert_exporter": "python",
   "pygments_lexer": "ipython3",
   "version": "3.6.4"
  }
 },
 "nbformat": 4,
 "nbformat_minor": 2
}
